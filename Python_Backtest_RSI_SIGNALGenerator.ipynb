{
 "cells": [
  {
   "cell_type": "code",
   "execution_count": 1,
   "id": "0146112b",
   "metadata": {},
   "outputs": [],
   "source": [
    "import pandas as pd\n",
    "import numpy as np\n"
   ]
  },
  {
   "cell_type": "code",
   "execution_count": null,
   "id": "bf1dd834",
   "metadata": {},
   "outputs": [],
   "source": [
    "import indicators\n",
    "import myutiles\n",
    "import sys"
   ]
  },
  {
   "cell_type": "code",
   "execution_count": null,
   "id": "6eb8993f",
   "metadata": {},
   "outputs": [],
   "source": [
    "def RSI(data, period):\n",
    "    try:\n",
    "        \n",
    "        if (len(data) < period):\n",
    "            print(sys._getframe().f_code.co_name,'Insufficient data')\n",
    "            return None\n",
    "        \n",
    "        if (period < 1):\n",
    "            print(sys._getframe().f_code.co_name,'Invalid parameter value for period')\n",
    "            return None\n",
    "        \n",
    "        data = pd.DataFrame(data[-period:])\n",
    "        \n",
    "        data['change'] = data.diff()\n",
    "        \n",
    "        data['gain'] = data['change']\n",
    "        data.loc[data['gain'] < 0, ['gain']] = 0.0\n",
    "        \n",
    "        data['loss'] = data['change']\n",
    "        data.loc[data['loss'] > 0, ['loss']] = 0.0\n",
    "        data['loss'] = abs(data['loss'])\n",
    "        \n",
    "        avg_gain = data['gain'].mean()\n",
    "        avg_loss = data['loss'].mean()\n",
    "        \n",
    "        RS = avg_gain / avg_loss\n",
    "        \n",
    "        RSI = 100.0 - (100.0 / ( 1.0 + RS ))\n",
    "        \n",
    "        return RSI\n",
    "        \n",
    "    except Exception as ex:\n",
    "        print(sys._getframe().f_code.co_name, 'exception :', ex)\n",
    "        return None\n"
   ]
  },
  {
   "cell_type": "code",
   "execution_count": null,
   "id": "df32dfa3",
   "metadata": {},
   "outputs": [],
   "source": [
    "\n",
    "def generate_signal_RSI(symbol_name, ltp, period, long_entry, short_entry, data_path ):\n",
    "    try:\n",
    "        \n",
    "        symbol_name = symbol_name.strip()\n",
    "        \n",
    "        if type(ltp) is str:\n",
    "            ltp = float(ltp.strip())\n",
    "        \n",
    "        if type(period) is str:\n",
    "            period = int(period.strip())\n",
    "        \n",
    "        if type(long_entry) is str:\n",
    "            long_entry = float(long_entry.strip())\n",
    "        \n",
    "        if type(short_entry) is str:\n",
    "            short_entry = float(short_entry.strip())\n",
    "        \n",
    "        if (symbol_name == '' or ltp <= 0 or period <= 2 or long_entry <= 0 or long_entry > 100 or short_entry <= 0 or short_entry > 100 or long_entry <= short_entry ):\n",
    "            print(sys._getframe().f_code.co_name,'Invalid parameter values')\n",
    "            return None\n",
    "        \n",
    "        data = myutils.read_dataframe(data_path + '/' + symbol_name + '.csv')\n",
    "        \n",
    "        if (data.empty):\n",
    "            print(sys._getframe().f_code.co_name,'Data not found')\n",
    "            return None\n",
    "        \n",
    "        # specific to your data set, modify accordingly\n",
    "        data = data['Close']\n",
    "        \n",
    "        data = data.dropna()\n",
    "        \n",
    "        #data = data[-period:]\n",
    "        \n",
    "        current_rsi = indicators.RSI(data, period)\n",
    "        \n",
    "        if (current_rsi == None):\n",
    "            return None\n",
    "        \n",
    "        print('RSI ' + str(current_rsi))\n",
    "        \n",
    "        if (current_rsi > long_entry):\n",
    "            signal = 1\n",
    "        elif (current_rsi < short_entry):\n",
    "            signal = -1\n",
    "        else:\n",
    "            signal = 0\n",
    "            \n",
    "        return signal\n",
    "        \n",
    "    except Exception as ex:\n",
    "        print(sys._getframe().f_code.co_name, 'exception :', ex)\n",
    "        return None\n",
    "            "
   ]
  },
  {
   "cell_type": "code",
   "execution_count": null,
   "id": "3aa6ebd9",
   "metadata": {},
   "outputs": [],
   "source": []
  },
  {
   "cell_type": "code",
   "execution_count": null,
   "id": "8dbc3a18",
   "metadata": {},
   "outputs": [],
   "source": []
  },
  {
   "cell_type": "code",
   "execution_count": null,
   "id": "8fcaa0bd",
   "metadata": {},
   "outputs": [],
   "source": []
  }
 ],
 "metadata": {
  "kernelspec": {
   "display_name": "Python 3 (ipykernel)",
   "language": "python",
   "name": "python3"
  },
  "language_info": {
   "codemirror_mode": {
    "name": "ipython",
    "version": 3
   },
   "file_extension": ".py",
   "mimetype": "text/x-python",
   "name": "python",
   "nbconvert_exporter": "python",
   "pygments_lexer": "ipython3",
   "version": "3.9.7"
  }
 },
 "nbformat": 4,
 "nbformat_minor": 5
}
